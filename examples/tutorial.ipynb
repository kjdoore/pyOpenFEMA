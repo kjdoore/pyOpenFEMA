{
 "cells": [
  {
   "cell_type": "code",
   "execution_count": null,
   "id": "5c08f1fb-3493-4045-b6e6-f8767dbb7873",
   "metadata": {},
   "outputs": [],
   "source": [
    "from OpenFEMA import OpenFEMA\n",
    "import pandas as pd\n",
    "import geopandas as gpd"
   ]
  },
  {
   "cell_type": "code",
   "execution_count": null,
   "id": "a887c420-ee02-47eb-b92b-3bff0c497c6c",
   "metadata": {},
   "outputs": [],
   "source": [
    "openfema = OpenFEMA()"
   ]
  },
  {
   "cell_type": "code",
   "execution_count": null,
   "id": "0c582b89-5d2d-4acb-9b82-26cb66540b10",
   "metadata": {},
   "outputs": [],
   "source": [
    "openfema.read_dataset('FemaRegions')"
   ]
  },
  {
   "cell_type": "code",
   "execution_count": null,
   "id": "a21d22d8-504f-4244-8520-7d17303ed25b",
   "metadata": {
    "scrolled": true
   },
   "outputs": [],
   "source": [
    "openfema.read_dataset('DisasterDeclarationsSummaries',\n",
    "                      columns=['disasterNumber', 'declarationDate', 'declarationTitle', 'state'],\n",
    "                      filters=[[('state', 'eq', 'FL')], [('state', 'eq', 'TX'), ('declarationTitle', 'substringof', 'FLOOD')]],\n",
    "                      parse_dates=False)"
   ]
  }
 ],
 "metadata": {
  "kernelspec": {
   "display_name": "Python 3 (ipykernel)",
   "language": "python",
   "name": "python3"
  },
  "language_info": {
   "codemirror_mode": {
    "name": "ipython",
    "version": 3
   },
   "file_extension": ".py",
   "mimetype": "text/x-python",
   "name": "python",
   "nbconvert_exporter": "python",
   "pygments_lexer": "ipython3",
   "version": "3.13.1"
  }
 },
 "nbformat": 4,
 "nbformat_minor": 5
}
